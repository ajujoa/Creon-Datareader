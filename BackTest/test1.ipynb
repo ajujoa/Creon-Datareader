{
 "cells": [
  {
   "cell_type": "code",
   "execution_count": 1,
   "metadata": {},
   "outputs": [],
   "source": [
    "from pykrx import stock\n",
    "import pandas as pd\n",
    "import numpy as np\n",
    "import csv\n",
    "import time\n",
    "import datetime\n",
    "from exchange_calendars import get_calendar\n",
    "\n",
    "import warnings\n",
    "warnings.simplefilter(action='ignore', category=FutureWarning) # FutureWarning 제거"
   ]
  },
  {
   "cell_type": "code",
   "execution_count": 19,
   "metadata": {},
   "outputs": [],
   "source": [
    "kospi = stock.get_market_ticker_list(\"20231125\", market=\"KOSPI\")"
   ]
  },
  {
   "cell_type": "code",
   "execution_count": 28,
   "metadata": {},
   "outputs": [],
   "source": [
    "# 이 문자 있으면 리스트에서 제거\n",
    "char_to_remove = 'K'\n",
    "\n",
    "# 리스트 내에서 제거할 문자를 가진 원소를 필터링하여 제거\n",
    "code_list = [item for item in kospi if char_to_remove not in item]\n",
    "\n",
    "# 코드리스트로 종목명 추출하기.\n",
    "name_list = []\n",
    "for code in code_list:\n",
    "    name = stock.get_market_ticker_name(code)\n",
    "    name_list.append(name)\n"
   ]
  },
  {
   "cell_type": "code",
   "execution_count": 34,
   "metadata": {},
   "outputs": [],
   "source": [
    "\n",
    "def dell_name():\n",
    "    sv_code_df = pd.DataFrame({'종목코드': code_list,'종목명': name_list},\n",
    "                                       columns=('종목코드', '종목명'))\n",
    "\n",
    "    # 제거할 문자들을 리스트로 만듭니다.\n",
    "    chars_to_remove2 = ['KODEX', 'TIGER', 'ACE', '액티브', 'KOSEF', 'ARIRANG', '블룸버그', '합성',\n",
    "                        'SOL', '스팩', 'HANARO']\n",
    "\n",
    "    # '종목명' 열에서 각 문자열에서 chars_to_remove2에 포함된 문자열을 제거합니다.\n",
    "    for char in chars_to_remove2:\n",
    "        sv_code_df['종목명'] = sv_code_df['종목명'].str.replace(char, '')\n",
    "\n",
    "    print(sv_code_df)\n",
    "\n",
    "    code_list2 = sv_code_df['종목코드'].tolist()\n",
    "    return code_list2\n"
   ]
  },
  {
   "cell_type": "code",
   "execution_count": 35,
   "metadata": {},
   "outputs": [
    {
     "name": "stdout",
     "output_type": "stream",
     "text": [
      "       종목코드      종목명\n",
      "0    095570   AJ네트웍스\n",
      "1    006840    AK홀딩스\n",
      "2    027410      BGF\n",
      "3    282330   BGF리테일\n",
      "4    138930  BNK금융지주\n",
      "..      ...      ...\n",
      "927  079980      휴비스\n",
      "928  005010      휴스틸\n",
      "929  000540     흥국화재\n",
      "930  000545    흥국화재우\n",
      "931  003280     흥아해운\n",
      "\n",
      "[932 rows x 2 columns]\n"
     ]
    }
   ],
   "source": [
    "code_list2 = dell_name()"
   ]
  },
  {
   "cell_type": "code",
   "execution_count": 11,
   "metadata": {},
   "outputs": [],
   "source": [
    "file_name = './test.txt'\n",
    "with open(file_name, 'w+') as file:\n",
    "    file.write('\\n'.join(code_list2))  # '\\n' 대신 ', '를 사용하면 줄바꿈이 아닌 ', '를 기준으로 문자"
   ]
  },
  {
   "cell_type": "code",
   "execution_count": 14,
   "metadata": {},
   "outputs": [],
   "source": [
    "#이전 거래일 확인 함수\n",
    "def ondays(days):\n",
    "    days_list = []\n",
    "    xkrx_calendar = get_calendar('XKRX')\n",
    "\n",
    "    today = datetime.datetime.now()\n",
    "\n",
    "    for day in range(1, days+1):\n",
    "        onday = today - day * xkrx_calendar.day\n",
    "        onday2 = onday.strftime(\"%Y%m%d\")\n",
    "        days_list.append(onday2)\n",
    "\n",
    "    return days_list"
   ]
  },
  {
   "cell_type": "code",
   "execution_count": 17,
   "metadata": {},
   "outputs": [
    {
     "data": {
      "text/plain": [
       "[]"
      ]
     },
     "execution_count": 17,
     "metadata": {},
     "output_type": "execute_result"
    }
   ],
   "source": [
    "ondays(0)"
   ]
  },
  {
   "cell_type": "code",
   "execution_count": 33,
   "metadata": {},
   "outputs": [
    {
     "name": "stdout",
     "output_type": "stream",
     "text": [
      "20231126\n"
     ]
    }
   ],
   "source": [
    "today = datetime.datetime.now().strftime(\"%Y%m%d\")\n",
    "\n",
    "print(today)\n"
   ]
  }
 ],
 "metadata": {
  "kernelspec": {
   "display_name": "32bit_env",
   "language": "python",
   "name": "python3"
  },
  "language_info": {
   "codemirror_mode": {
    "name": "ipython",
    "version": 3
   },
   "file_extension": ".py",
   "mimetype": "text/x-python",
   "name": "python",
   "nbconvert_exporter": "python",
   "pygments_lexer": "ipython3",
   "version": "3.8.13"
  }
 },
 "nbformat": 4,
 "nbformat_minor": 2
}
